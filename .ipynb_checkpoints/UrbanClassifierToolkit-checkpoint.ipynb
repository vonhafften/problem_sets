{
 "cells": [
  {
   "cell_type": "code",
   "execution_count": 5,
   "metadata": {},
   "outputs": [],
   "source": [
    "# UrbanClassifier Toolkit"
   ]
  },
  {
   "cell_type": "code",
   "execution_count": 6,
   "metadata": {},
   "outputs": [],
   "source": [
    "# Import Libraries"
   ]
  },
  {
   "cell_type": "code",
   "execution_count": 7,
   "metadata": {},
   "outputs": [
    {
     "ename": "ModuleNotFoundError",
     "evalue": "No module named 'gdal'",
     "output_type": "error",
     "traceback": [
      "\u001b[0;31m---------------------------------------------------------------------------\u001b[0m",
      "\u001b[0;31mModuleNotFoundError\u001b[0m                       Traceback (most recent call last)",
      "\u001b[0;32m<ipython-input-7-d22e0fc9c94f>\u001b[0m in \u001b[0;36m<module>\u001b[0;34m\u001b[0m\n\u001b[0;32m----> 1\u001b[0;31m \u001b[0;32mimport\u001b[0m \u001b[0mgdal\u001b[0m\u001b[0;34m\u001b[0m\u001b[0;34m\u001b[0m\u001b[0m\n\u001b[0m\u001b[1;32m      2\u001b[0m \u001b[0;32mimport\u001b[0m \u001b[0mmath\u001b[0m\u001b[0;34m\u001b[0m\u001b[0;34m\u001b[0m\u001b[0m\n\u001b[1;32m      3\u001b[0m \u001b[0;32mimport\u001b[0m \u001b[0mnumpy\u001b[0m \u001b[0;32mas\u001b[0m \u001b[0mnp\u001b[0m\u001b[0;34m\u001b[0m\u001b[0;34m\u001b[0m\u001b[0m\n",
      "\u001b[0;31mModuleNotFoundError\u001b[0m: No module named 'gdal'"
     ]
    }
   ],
   "source": [
    "import gdal\n",
    "import math\n",
    "import numpy as np"
   ]
  },
  {
   "cell_type": "code",
   "execution_count": 8,
   "metadata": {},
   "outputs": [],
   "source": [
    "# Open TIFF File, and convert raster to multidimensional array format - convert into a matrix that is stored as a multidimensional array\n",
    "# NOTE : Matrix is very large"
   ]
  },
  {
   "cell_type": "code",
   "execution_count": 9,
   "metadata": {},
   "outputs": [
    {
     "ename": "NameError",
     "evalue": "name 'gdal' is not defined",
     "output_type": "error",
     "traceback": [
      "\u001b[0;31m---------------------------------------------------------------------------\u001b[0m",
      "\u001b[0;31mNameError\u001b[0m                                 Traceback (most recent call last)",
      "\u001b[0;32m<ipython-input-9-c0d1336cf380>\u001b[0m in \u001b[0;36m<module>\u001b[0;34m\u001b[0m\n\u001b[0;32m----> 1\u001b[0;31m \u001b[0msrc\u001b[0m \u001b[0;34m=\u001b[0m \u001b[0mgdal\u001b[0m\u001b[0;34m.\u001b[0m\u001b[0mOpen\u001b[0m\u001b[0;34m(\u001b[0m\u001b[0;34m'gpw_v4_population_count_rev11_2020_30_sec.tif'\u001b[0m\u001b[0;34m)\u001b[0m\u001b[0;34m\u001b[0m\u001b[0;34m\u001b[0m\u001b[0m\n\u001b[0m\u001b[1;32m      2\u001b[0m \u001b[0mmyarray\u001b[0m \u001b[0;34m=\u001b[0m \u001b[0mnp\u001b[0m\u001b[0;34m.\u001b[0m\u001b[0marray\u001b[0m\u001b[0;34m(\u001b[0m\u001b[0msrc\u001b[0m\u001b[0;34m.\u001b[0m\u001b[0mGetRasterBand\u001b[0m\u001b[0;34m(\u001b[0m\u001b[0;36m1\u001b[0m\u001b[0;34m)\u001b[0m\u001b[0;34m.\u001b[0m\u001b[0mReadAsArray\u001b[0m\u001b[0;34m(\u001b[0m\u001b[0;34m)\u001b[0m\u001b[0;34m)\u001b[0m\u001b[0;34m\u001b[0m\u001b[0;34m\u001b[0m\u001b[0m\n",
      "\u001b[0;31mNameError\u001b[0m: name 'gdal' is not defined"
     ]
    }
   ],
   "source": [
    "src = gdal.Open('gpw_v4_population_count_rev11_2020_30_sec.tif')\n",
    "myarray = np.array(src.GetRasterBand(1).ReadAsArray())"
   ]
  },
  {
   "cell_type": "code",
   "execution_count": 79,
   "metadata": {},
   "outputs": [],
   "source": [
    "# GeoTrans takes the Header Data from the Raster File to make proper Calculations"
   ]
  },
  {
   "cell_type": "code",
   "execution_count": 80,
   "metadata": {},
   "outputs": [],
   "source": [
    "geoTrans = src.GetGeoTransform()"
   ]
  },
  {
   "cell_type": "code",
   "execution_count": 7,
   "metadata": {},
   "outputs": [],
   "source": [
    "# geoTrans is stored as the following : (-180.0, 0.00833333333333333, 0.0, 89.99999999999991, 0.0, -0.00833333333333333)"
   ]
  },
  {
   "cell_type": "code",
   "execution_count": 8,
   "metadata": {},
   "outputs": [],
   "source": [
    "# Coordinates Conversion Function : "
   ]
  },
  {
   "cell_type": "code",
   "execution_count": 9,
   "metadata": {},
   "outputs": [],
   "source": [
    "def world2Pixel(geoMatrix, x, y):\n",
    "    \n",
    "    # Uses a gdal geomatrix ( gdal.GetGeoTransform() ) to calculate the pixel location of a geospatial coordinate\n",
    "    \n",
    "    ulX = geoMatrix[0]\n",
    "    ulY = geoMatrix[3]\n",
    "    xDist = geoMatrix[1]\n",
    "    yDist = geoMatrix[5]\n",
    "    rtnX = geoMatrix[2]\n",
    "    trnY = geoMatrix[4]\n",
    "    pixel = int((x - ulX) / xDist)\n",
    "    line = int((ulY - y) / xDist)\n",
    "    \n",
    "    return (pixel, line)"
   ]
  },
  {
   "cell_type": "code",
   "execution_count": 10,
   "metadata": {},
   "outputs": [],
   "source": [
    "# Helper Function to force odd conversion : "
   ]
  },
  {
   "cell_type": "code",
   "execution_count": 12,
   "metadata": {},
   "outputs": [],
   "source": [
    "def toOdd(n):\n",
    "    if (n % 2) == 0:\n",
    "        return n + 1\n",
    "    else:\n",
    "        return n"
   ]
  },
  {
   "cell_type": "code",
   "execution_count": 13,
   "metadata": {},
   "outputs": [],
   "source": [
    "# Radius Iterative Function : "
   ]
  },
  {
   "cell_type": "code",
   "execution_count": 56,
   "metadata": {},
   "outputs": [],
   "source": [
    "def radius(arr, pixel, line, n):\n",
    "    \n",
    "    # Takes as :\n",
    "    # arr = input matrix from TIFF File\n",
    "    # pixel = specific pixel from world2Pixel Function\n",
    "    # line = specific line from world2Pixel Function\n",
    "    # n = a numeric value, interpreted by the function as an n by n radius in Km Squared \n",
    "    # NOTE: n is automatically converted to an odd number if input is even\n",
    "    \n",
    "    r = toOdd(n)\n",
    "    \n",
    "    # toOdd returns ( n + 1 ) if n is even, message to indicate this is printed : \n",
    "    \n",
    "    print(\"Attention : Input n with value \" + str(n) + \" was converted to value \" + str(r) + \" to preform more accurate calculation\")\n",
    "    \n",
    "    # Calculate distance value to subtract from starting line and cell\n",
    "    \n",
    "    dist = math.floor(r / 2)\n",
    "    \n",
    "    # Determine starting points\n",
    "    \n",
    "    start_pixel = pixel - dist\n",
    "    start_line = line - dist\n",
    "    \n",
    "    # Simply initialize sum variable `pop_sum` to 0\n",
    "    \n",
    "    pop_sum = 0\n",
    "    \n",
    "    # pop_sum is the total sum of returned population values for each Km squared cell present in the specified radius\n",
    "    \n",
    "    for i in range(r):\n",
    "        \n",
    "        # Iteratively extracting population data from each cell, and adding it to pop_sum\n",
    "        # i refers to index of cell\n",
    "        \n",
    "        for j in range(r):\n",
    "            \n",
    "            # j refers to index of line\n",
    "            # adds cell i for each line j through r, for each iteration called by parent loop\n",
    "            \n",
    "            pop_sum += arr[start_line + j][start_pixel + i]\n",
    "               \n",
    "                \n",
    "    return pop_sum"
   ]
  },
  {
   "cell_type": "code",
   "execution_count": 57,
   "metadata": {},
   "outputs": [],
   "source": [
    "# Function which returns Total Population for given radius :"
   ]
  },
  {
   "cell_type": "code",
   "execution_count": 58,
   "metadata": {},
   "outputs": [],
   "source": [
    "def popDensityTotal(arr, x, y, r):\n",
    "    \n",
    "    # x = longitude\n",
    "    # y = latitude\n",
    "    # arr = Matrix created from TIFF File \n",
    "    # r = specified radius\n",
    "    \n",
    "    pixel = world2Pixel(geoTrans, x, y)[0]\n",
    "    line = world2Pixel(geoTrans, x, y)[1]\n",
    "    return radius(myarray, pixel, line, r)"
   ]
  },
  {
   "cell_type": "code",
   "execution_count": 59,
   "metadata": {},
   "outputs": [],
   "source": [
    "# Function which returns Average Population for given radius :"
   ]
  },
  {
   "cell_type": "code",
   "execution_count": 60,
   "metadata": {},
   "outputs": [],
   "source": [
    "def popDensityAverage(arr, x, y, r):\n",
    "    \n",
    "    # Gets total by calling popDensityTotal\n",
    "    \n",
    "    total = popDensityTotal(arr, x, y, r)\n",
    "    \n",
    "    # Returns total / r * r to account for total divided by number of cells in radius\n",
    "    \n",
    "    cells = math.pow(toOdd(r), 2)\n",
    "    avg = total / cells\n",
    "    \n",
    "    return avg"
   ]
  },
  {
   "cell_type": "code",
   "execution_count": 61,
   "metadata": {},
   "outputs": [],
   "source": [
    "# CLASSIFICATION FUNCTIONS : "
   ]
  },
  {
   "cell_type": "code",
   "execution_count": 62,
   "metadata": {},
   "outputs": [],
   "source": [
    "# Both Classification Functions take in as input : (bound, arr, x , y, r) \n",
    "\n",
    "# bound = specified threshold, numerical value, to classify as `Urban`\n",
    "# arr = Matrix extracted from TIFF File\n",
    "# x = longitude\n",
    "# y = latitude\n",
    "# r = radius\n",
    "    \n",
    "    "
   ]
  },
  {
   "cell_type": "code",
   "execution_count": 63,
   "metadata": {},
   "outputs": [],
   "source": [
    "def urbanByAverage(bound, arr, x , y, r): \n",
    "    \n",
    "    # Call popDensityAverage\n",
    "    \n",
    "    avg = popDensityAverage(arr, x, y, r)\n",
    "\n",
    "    # If the avg population is greater than or equal to the specified bound, return true\n",
    "    \n",
    "    if avg >= bound: return True \n",
    "    \n",
    "    else : return False "
   ]
  },
  {
   "cell_type": "code",
   "execution_count": 64,
   "metadata": {},
   "outputs": [],
   "source": [
    "def urbanByTotal(bound, arr, x , y, r): \n",
    "    \n",
    "    # Call popDensityTotal\n",
    "    \n",
    "    total = popDensityTotal(arr, x, y, r)\n",
    "\n",
    "    # If the total population is greater than or equal to the specified bound, return true\n",
    "    \n",
    "    if total >= bound: return True \n",
    "    \n",
    "    else : return False "
   ]
  },
  {
   "cell_type": "code",
   "execution_count": 65,
   "metadata": {},
   "outputs": [],
   "source": [
    "# Additional Function :"
   ]
  },
  {
   "cell_type": "code",
   "execution_count": 66,
   "metadata": {},
   "outputs": [],
   "source": [
    "# Returns a specific population density for a given pair of coordinates\n",
    "# Converts coordinates to a reference line and cell, and looks up said line and cell in the Matrix ( represented as a multidimensional array )"
   ]
  },
  {
   "cell_type": "code",
   "execution_count": 67,
   "metadata": {},
   "outputs": [],
   "source": [
    "def popDensity(arr, x, y):\n",
    "    pixel = world2Pixel(geoTrans, x, y)[0]\n",
    "    line = world2Pixel(geoTrans, x, y)[1]\n",
    "    return arr[line][pixel]"
   ]
  },
  {
   "cell_type": "code",
   "execution_count": 68,
   "metadata": {},
   "outputs": [],
   "source": [
    "# EXAMPLES :"
   ]
  },
  {
   "cell_type": "code",
   "execution_count": 69,
   "metadata": {},
   "outputs": [
    {
     "data": {
      "text/plain": [
       "688.37634"
      ]
     },
     "execution_count": 69,
     "metadata": {},
     "output_type": "execute_result"
    }
   ],
   "source": [
    "popDensity(myarray,-79.347015, 43.651070 )"
   ]
  },
  {
   "cell_type": "code",
   "execution_count": 71,
   "metadata": {},
   "outputs": [
    {
     "name": "stdout",
     "output_type": "stream",
     "text": [
      "Attention : Input n with value 111 was converted to value 111 to preform more accurate calculation\n"
     ]
    },
    {
     "data": {
      "text/plain": [
       "6559703.393304814"
      ]
     },
     "execution_count": 71,
     "metadata": {},
     "output_type": "execute_result"
    }
   ],
   "source": [
    "# popDensityTotal with radius of 111 ( one-hundred-and-eleven ) -- ( 111 x 111 Km Squared )\n",
    "\n",
    "popDensityTotal(myarray, -79.347015, 43.651070, 111)"
   ]
  },
  {
   "cell_type": "code",
   "execution_count": 72,
   "metadata": {},
   "outputs": [
    {
     "name": "stdout",
     "output_type": "stream",
     "text": [
      "Attention : Input n with value 11 was converted to value 11 to preform more accurate calculation\n"
     ]
    },
    {
     "data": {
      "text/plain": [
       "2918.7404481828953"
      ]
     },
     "execution_count": 72,
     "metadata": {},
     "output_type": "execute_result"
    }
   ],
   "source": [
    "# popDensityAverage with radius of 11 ( eleven ) -- ( 11 x 11 Km Squared )\n",
    "\n",
    "popDensityAverage(myarray, -79.347015, 43.651070, 11)"
   ]
  },
  {
   "cell_type": "code",
   "execution_count": 74,
   "metadata": {},
   "outputs": [
    {
     "name": "stdout",
     "output_type": "stream",
     "text": [
      "Attention : Input n with value 111 was converted to value 111 to preform more accurate calculation\n"
     ]
    },
    {
     "data": {
      "text/plain": [
       "False"
      ]
     },
     "execution_count": 74,
     "metadata": {},
     "output_type": "execute_result"
    }
   ],
   "source": [
    "# urbanByTotal with radius of 111 ( one-hundred-and-eleven ) -- ( 111 x 111 Km Squared ), and threshold of 7 million people\n",
    "# Return is False, since popDensityTotal returns `6559703.393304814` as displayed above \n",
    "\n",
    "urbanByTotal(7000000, myarray, -79.347015, 43.651070, 111)"
   ]
  },
  {
   "cell_type": "code",
   "execution_count": 75,
   "metadata": {},
   "outputs": [
    {
     "name": "stdout",
     "output_type": "stream",
     "text": [
      "Attention : Input n with value 11 was converted to value 11 to preform more accurate calculation\n"
     ]
    },
    {
     "data": {
      "text/plain": [
       "True"
      ]
     },
     "execution_count": 75,
     "metadata": {},
     "output_type": "execute_result"
    }
   ],
   "source": [
    "# urbanByAverage with radius of 11 ( eleven ) -- ( 11 x 11 Km Squared ), and threshold of 2000 people\n",
    "# Return is True, since popDensityTotal returns `2918.7404481828953` as displayed above \n",
    "\n",
    "urbanByAverage(2000, myarray, -79.347015, 43.651070, 11)"
   ]
  }
 ],
 "metadata": {
  "kernelspec": {
   "display_name": "Python 3",
   "language": "python",
   "name": "python3"
  },
  "language_info": {
   "codemirror_mode": {
    "name": "ipython",
    "version": 3
   },
   "file_extension": ".py",
   "mimetype": "text/x-python",
   "name": "python",
   "nbconvert_exporter": "python",
   "pygments_lexer": "ipython3",
   "version": "3.8.5"
  }
 },
 "nbformat": 4,
 "nbformat_minor": 4
}
